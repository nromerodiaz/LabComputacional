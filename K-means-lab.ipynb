{
 "metadata": {
  "name": "",
  "signature": "sha256:2867fb540464b54ad272834b853e31aaf097fb9aa92b8f0a5b59dc290adcd798"
 },
 "nbformat": 3,
 "nbformat_minor": 0,
 "worksheets": [
  {
   "cells": [
    {
     "cell_type": "code",
     "collapsed": false,
     "input": [
      "import scipy\n",
      "%pylab inline\n",
      "from numpy import linalg"
     ],
     "language": "python",
     "metadata": {},
     "outputs": [
      {
       "output_type": "stream",
       "stream": "stdout",
       "text": [
        "Populating the interactive namespace from numpy and matplotlib\n"
       ]
      }
     ],
     "prompt_number": 1
    },
    {
     "cell_type": "code",
     "collapsed": false,
     "input": [
      "data = loadtxt('data.dat.1')\n",
      "'''\n",
      "c = np.zeros(M)\n",
      "for i in range(M):\n",
      "    for j in range(d):\n",
      "        count = 0\n",
      "\n",
      "        #print data[i][j]\n",
      "        for l in range(d):\n",
      "            count +=(data[i][l]-centers[j][l])**2\n",
      "#LO QUE DIJO JAIME    c =append(c, count)\n",
      "        c[i] = count\n",
      "print c\n",
      "print '========================================'\n",
      "print data\n",
      "print '========================================'\n",
      "print centers\n",
      "'''"
     ],
     "language": "python",
     "metadata": {},
     "outputs": [
      {
       "metadata": {},
       "output_type": "pyout",
       "prompt_number": 5,
       "text": [
        "\"\\nc = np.zeros(M)\\nfor i in range(M):\\n    for j in range(d):\\n        count = 0\\n\\n        #print data[i][j]\\n        for l in range(d):\\n            count +=(data[i][l]-centers[j][l])**2\\n#LO QUE DIJO JAIME    c =append(c, count)\\n        c[i] = count\\nprint c\\nprint '========================================'\\nprint data\\nprint '========================================'\\nprint centers\\n\""
       ]
      }
     ],
     "prompt_number": 5
    },
    {
     "cell_type": "code",
     "collapsed": false,
     "input": [
      "def cluster(datos, K):\n",
      "    M = len(datos)\n",
      "    d = len(datos[0])\n",
      "    centers = 10*np.random.rand(K*d).reshape(K,d)\n",
      "    dist_sq = np.zeros(d)\n",
      "    distance = np.zeros(M*d).reshape(M,d)\n",
      "\n",
      "    for i in range(M):\n",
      "        for j in range(d):\n",
      "            dist_sq = np.zeros(d)\n",
      "            for l in range(d):\n",
      "                dist_sq[j] += (datos[i][l] - centers[j][l])**2\n",
      "            distance[i][j] = np.sqrt(dist_sq[j])\n",
      "\n",
      "    print distance\n",
      "    return cluster "
     ],
     "language": "python",
     "metadata": {},
     "outputs": [
      {
       "metadata": {},
       "output_type": "pyout",
       "prompt_number": 8,
       "text": [
        "'\\nclust = cluster(data, 2)\\nprint clust\\n'"
       ]
      }
     ],
     "prompt_number": 8
    },
    {
     "cell_type": "code",
     "collapsed": false,
     "input": [
      "K = 2\n",
      "M = len(data)\n",
      "d = len(data[0])\n",
      "centers = 10*np.random.rand(K*d).reshape(K,d)\n",
      "dist_sq = np.zeros(d)\n",
      "distance = np.zeros(M*d).reshape(M,d)\n",
      "\n",
      "for i in range(M):\n",
      "    for j in range(d):\n",
      "        dist_sq = np.zeros(d)\n",
      "        for l in range(d):\n",
      "            dist_sq[j] += (data[i][l] - centers[j][l])**2\n",
      "        #distance=append(distance, np.sqrt(dist_sq[j])) \n",
      "        distance[i][j] = np.sqrt(dist_sq[j])\n",
      "#distance = distance.reshape(M, d)\n",
      "\n",
      "print distance\n",
      "scatter(data.T[0], data.T[1])\n",
      "scatter(centers[0][0], centers[0][1], c='red')\n",
      "scatter(centers[1][0], centers[1][1], c= 'yellow')"
     ],
     "language": "python",
     "metadata": {},
     "outputs": [
      {
       "output_type": "stream",
       "stream": "stdout",
       "text": [
        "[[ 10.68543667   7.362373  ]\n",
        " [ 12.13467235   8.97184842]\n",
        " [ 13.30092351   9.68075722]\n",
        " [ 10.25383591   7.21918583]\n",
        " [ 11.54637795   8.96550686]\n",
        " [ 11.5718223    8.65897787]\n",
        " [ 11.35083205   8.44980243]\n",
        " [ 10.59949481   8.85433435]\n",
        " [ 13.16513505   9.52397759]\n",
        " [ 11.67399927   8.17616104]\n",
        " [  3.27375405   8.22197767]\n",
        " [  4.0857124    8.92653804]\n",
        " [  1.87487506   6.49087386]\n",
        " [  4.19138773   9.10634413]\n",
        " [  1.40215462   6.33843211]\n",
        " [  4.09712056   9.03725889]\n",
        " [  3.50884723   8.26891432]\n",
        " [  2.58582379   7.5359204 ]\n",
        " [  3.42369758   7.89645884]\n",
        " [  3.1500143    8.05451944]]\n"
       ]
      },
      {
       "metadata": {},
       "output_type": "pyout",
       "prompt_number": 9,
       "text": [
        "<matplotlib.collections.PathCollection at 0x449ded0>"
       ]
      },
      {
       "metadata": {},
       "output_type": "display_data",
       "png": "[encoded data removed]",
       "text": [
        "<matplotlib.figure.Figure at 0x4569090>"
       ]
      }
     ],
     "prompt_number": 9
    },
    {
     "cell_type": "code",
     "collapsed": false,
     "input": [],
     "language": "python",
     "metadata": {},
     "outputs": []
    }
   ],
   "metadata": {}
  }
 ]
}